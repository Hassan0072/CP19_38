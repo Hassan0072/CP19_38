{
 "cells": [
  {
   "cell_type": "code",
   "execution_count": 1,
   "metadata": {},
   "outputs": [
    {
     "name": "stdout",
     "output_type": "stream",
     "text": [
      "PyQt5 button click\n",
      "PyQt5 button click\n",
      "PyQt5 button click\n",
      "PyQt5 button click\n",
      "PyQt5 button click\n",
      "PyQt5 button click\n",
      "PyQt5 button click\n",
      "PyQt5 button click\n",
      "PyQt5 button click\n",
      "PyQt5 button click\n",
      "PyQt5 button click\n",
      "PyQt5 button click\n",
      "PyQt5 button click\n",
      "PyQt5 button click\n",
      "PyQt5 button click\n",
      "PyQt5 button click\n",
      "PyQt5 button click\n",
      "PyQt5 button click\n",
      "PyQt5 button click\n",
      "PyQt5 button click\n",
      "PyQt5 button click\n",
      "PyQt5 button click\n",
      "PyQt5 button click\n",
      "PyQt5 button click\n",
      "PyQt5 button click\n",
      "PyQt5 button click\n",
      "PyQt5 button click\n",
      "PyQt5 button click\n",
      "PyQt5 button click\n",
      "PyQt5 button click\n",
      "PyQt5 button click\n",
      "PyQt5 button click\n",
      "PyQt5 button click\n",
      "PyQt5 button click\n",
      "PyQt5 button click\n",
      "PyQt5 button click\n",
      "PyQt5 button click\n",
      "PyQt5 button click\n",
      "PyQt5 button click\n",
      "PyQt5 button click\n",
      "PyQt5 button click\n",
      "PyQt5 button click\n",
      "PyQt5 button click\n",
      "PyQt5 button click\n",
      "PyQt5 button click\n",
      "PyQt5 button click\n",
      "PyQt5 button click\n",
      "PyQt5 button click\n",
      "PyQt5 button click\n",
      "PyQt5 button click\n",
      "PyQt5 button click\n",
      "PyQt5 button click\n"
     ]
    },
    {
     "ename": "SystemExit",
     "evalue": "0",
     "output_type": "error",
     "traceback": [
      "An exception has occurred, use %tb to see the full traceback.\n",
      "\u001b[1;31mSystemExit\u001b[0m\u001b[1;31m:\u001b[0m 0\n"
     ]
    },
    {
     "name": "stderr",
     "output_type": "stream",
     "text": [
      "F:\\AnacondaPython\\lib\\site-packages\\IPython\\core\\interactiveshell.py:3275: UserWarning: To exit: use 'exit', 'quit', or Ctrl-D.\n",
      "  warn(\"To exit: use 'exit', 'quit', or Ctrl-D.\", stacklevel=1)\n"
     ]
    }
   ],
   "source": [
    "import sys\n",
    "from PyQt5.QtWidgets import QApplication, QWidget, QPushButton\n",
    "from PyQt5.QtGui import QIcon\n",
    "from PyQt5.QtCore import pyqtSlot\n",
    "\n",
    "class App(QWidget):\n",
    "\n",
    "    def __init__(self):\n",
    "        super().__init__()\n",
    "        self.title = 'PyQt5 button - pythonspot.com'\n",
    "        self.left = 10\n",
    "        self.top = 10\n",
    "        self.width = 320\n",
    "        self.height = 200\n",
    "        self.initUI()\n",
    "    \n",
    "    def initUI(self):\n",
    "        self.setWindowTitle(self.title)\n",
    "        self.setGeometry(self.left, self.top, self.width, self.height)\n",
    "        \n",
    "        button = QPushButton('PyQt5 button', self)\n",
    "        button.setToolTip('This is an example button')\n",
    "        button.move(100,70)\n",
    "        button.clicked.connect(self.on_click)\n",
    "        \n",
    "        self.show()\n",
    "\n",
    "    @pyqtSlot()\n",
    "    def on_click(self):\n",
    "        print('PyQt5 button click')\n",
    "\n",
    "if __name__ == '__main__':\n",
    "    app = QApplication(sys.argv)\n",
    "    ex = App()\n",
    "    sys.exit(app.exec_())\n"
   ]
  },
  {
   "cell_type": "code",
   "execution_count": 1,
   "metadata": {},
   "outputs": [
    {
     "name": "stdout",
     "output_type": "stream",
     "text": [
      "Read\n",
      "Read\n",
      "Read\n",
      "Read\n",
      "Read\n",
      "Read\n",
      "Read\n",
      "Read\n",
      "Read\n",
      "Read\n",
      "Read\n",
      "Read\n"
     ]
    },
    {
     "ename": "SystemExit",
     "evalue": "0",
     "output_type": "error",
     "traceback": [
      "An exception has occurred, use %tb to see the full traceback.\n",
      "\u001b[1;31mSystemExit\u001b[0m\u001b[1;31m:\u001b[0m 0\n"
     ]
    },
    {
     "name": "stderr",
     "output_type": "stream",
     "text": [
      "F:\\AnacondaPython\\lib\\site-packages\\IPython\\core\\interactiveshell.py:3275: UserWarning: To exit: use 'exit', 'quit', or Ctrl-D.\n",
      "  warn(\"To exit: use 'exit', 'quit', or Ctrl-D.\", stacklevel=1)\n"
     ]
    }
   ],
   "source": [
    "import sys\n",
    "from PyQt5.QtWidgets import QApplication, QWidget, QPushButton\n",
    "from PyQt5.QtGui import QIcon\n",
    "from PyQt5.QtCore import pyqtSlot\n",
    "\n",
    "class App(QWidget):\n",
    "\n",
    "    def __init__(self):\n",
    "        super().__init__()\n",
    "        self.title = 'PyQt5 button - pythonspot.com'\n",
    "        self.left = 10\n",
    "        self.top = 10\n",
    "        self.width = 320\n",
    "        self.height = 200\n",
    "        self.initUI()\n",
    "    \n",
    "    def initUI(self):\n",
    "        self.setWindowTitle(self.title)\n",
    "        self.setGeometry(self.left, self.top, self.width, self.height)\n",
    "        \n",
    "        button = QPushButton('Read', self)\n",
    "        button.setToolTip('This is an example button')\n",
    "        button.move(100,70)\n",
    "        button.clicked.connect(self.on_click)\n",
    "        \n",
    "        self.show()\n",
    "\n",
    "    @pyqtSlot()\n",
    "    def on_click(self):\n",
    "        print('Read')\n",
    "\n",
    "if __name__ == '__main__':\n",
    "    app = QApplication(sys.argv)\n",
    "    ex = App()\n",
    "    sys.exit(app.exec_())\n"
   ]
  },
  {
   "cell_type": "code",
   "execution_count": null,
   "metadata": {},
   "outputs": [],
   "source": []
  },
  {
   "cell_type": "code",
   "execution_count": null,
   "metadata": {},
   "outputs": [],
   "source": []
  }
 ],
 "metadata": {
  "kernelspec": {
   "display_name": "Python 3",
   "language": "python",
   "name": "python3"
  },
  "language_info": {
   "codemirror_mode": {
    "name": "ipython",
    "version": 3
   },
   "file_extension": ".py",
   "mimetype": "text/x-python",
   "name": "python",
   "nbconvert_exporter": "python",
   "pygments_lexer": "ipython3",
   "version": "3.7.1"
  }
 },
 "nbformat": 4,
 "nbformat_minor": 2
}
